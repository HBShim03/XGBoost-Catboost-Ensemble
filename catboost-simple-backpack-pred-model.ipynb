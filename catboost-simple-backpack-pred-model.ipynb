{
 "cells": [
  {
   "cell_type": "markdown",
   "id": "81e41153",
   "metadata": {
    "papermill": {
     "duration": 0.009486,
     "end_time": "2025-02-17T15:40:15.512224",
     "exception": false,
     "start_time": "2025-02-17T15:40:15.502738",
     "status": "completed"
    },
    "tags": []
   },
   "source": [
    "# Backpack Prediction Challenge | CatBoost\n",
    "\n",
    "Code by Hanbo Shim\n",
    "\n",
    "## Contents\n",
    "- EDA\n",
    "- Train-test Split\n",
    "- Train data preprocessing\n",
    "- CatBoost Model Fitting\n",
    "- Test data preprocessing\n",
    "- Model prediction"
   ]
  },
  {
   "cell_type": "code",
   "execution_count": 1,
   "id": "bee42f46",
   "metadata": {
    "_cell_guid": "b1076dfc-b9ad-4769-8c92-a6c4dae69d19",
    "_uuid": "8f2839f25d086af736a60e9eeb907d3b93b6e0e5",
    "execution": {
     "iopub.execute_input": "2025-02-17T15:40:15.529503Z",
     "iopub.status.busy": "2025-02-17T15:40:15.529011Z",
     "iopub.status.idle": "2025-02-17T15:40:16.554482Z",
     "shell.execute_reply": "2025-02-17T15:40:16.553056Z"
    },
    "papermill": {
     "duration": 1.036249,
     "end_time": "2025-02-17T15:40:16.556396",
     "exception": false,
     "start_time": "2025-02-17T15:40:15.520147",
     "status": "completed"
    },
    "tags": []
   },
   "outputs": [
    {
     "name": "stdout",
     "output_type": "stream",
     "text": [
      "/kaggle/input/playground-series-s5e2/sample_submission.csv\n",
      "/kaggle/input/playground-series-s5e2/train.csv\n",
      "/kaggle/input/playground-series-s5e2/test.csv\n",
      "/kaggle/input/playground-series-s5e2/training_extra.csv\n"
     ]
    }
   ],
   "source": [
    "# This Python 3 environment comes with many helpful analytics libraries installed\n",
    "# It is defined by the kaggle/python Docker image: https://github.com/kaggle/docker-python\n",
    "# For example, here's several helpful packages to load\n",
    "\n",
    "import numpy as np # linear algebra\n",
    "import pandas as pd # data processing, CSV file I/O (e.g. pd.read_csv)\n",
    "\n",
    "# Input data files are available in the read-only \"../input/\" directory\n",
    "# For example, running this (by clicking run or pressing Shift+Enter) will list all files under the input directory\n",
    "\n",
    "import os\n",
    "for dirname, _, filenames in os.walk('/kaggle/input'):\n",
    "    for filename in filenames:\n",
    "        print(os.path.join(dirname, filename))\n",
    "\n",
    "# You can write up to 20GB to the current directory (/kaggle/working/) that gets preserved as output when you create a version using \"Save & Run All\" \n",
    "# You can also write temporary files to /kaggle/temp/, but they won't be saved outside of the current session"
   ]
  },
  {
   "cell_type": "code",
   "execution_count": 2,
   "id": "f6786d9d",
   "metadata": {
    "execution": {
     "iopub.execute_input": "2025-02-17T15:40:16.574454Z",
     "iopub.status.busy": "2025-02-17T15:40:16.573944Z",
     "iopub.status.idle": "2025-02-17T15:40:16.578204Z",
     "shell.execute_reply": "2025-02-17T15:40:16.577270Z"
    },
    "papermill": {
     "duration": 0.014805,
     "end_time": "2025-02-17T15:40:16.579899",
     "exception": false,
     "start_time": "2025-02-17T15:40:16.565094",
     "status": "completed"
    },
    "tags": []
   },
   "outputs": [],
   "source": [
    "# Ignore deprecation warning from now on\n",
    "import warnings\n",
    "warnings.filterwarnings('ignore')"
   ]
  },
  {
   "cell_type": "markdown",
   "id": "dea4d047",
   "metadata": {
    "papermill": {
     "duration": 0.007623,
     "end_time": "2025-02-17T15:40:16.595903",
     "exception": false,
     "start_time": "2025-02-17T15:40:16.588280",
     "status": "completed"
    },
    "tags": []
   },
   "source": [
    "# EDA"
   ]
  },
  {
   "cell_type": "markdown",
   "id": "c457f31c",
   "metadata": {
    "papermill": {
     "duration": 0.007647,
     "end_time": "2025-02-17T15:40:16.611757",
     "exception": false,
     "start_time": "2025-02-17T15:40:16.604110",
     "status": "completed"
    },
    "tags": []
   },
   "source": [
    "Viewing the first 5 rows of the dataset."
   ]
  },
  {
   "cell_type": "code",
   "execution_count": 3,
   "id": "1d1bbb8f",
   "metadata": {
    "execution": {
     "iopub.execute_input": "2025-02-17T15:40:16.628866Z",
     "iopub.status.busy": "2025-02-17T15:40:16.628462Z",
     "iopub.status.idle": "2025-02-17T15:40:17.494017Z",
     "shell.execute_reply": "2025-02-17T15:40:17.492650Z"
    },
    "papermill": {
     "duration": 0.876204,
     "end_time": "2025-02-17T15:40:17.495998",
     "exception": false,
     "start_time": "2025-02-17T15:40:16.619794",
     "status": "completed"
    },
    "tags": []
   },
   "outputs": [
    {
     "data": {
      "text/html": [
       "<div>\n",
       "<style scoped>\n",
       "    .dataframe tbody tr th:only-of-type {\n",
       "        vertical-align: middle;\n",
       "    }\n",
       "\n",
       "    .dataframe tbody tr th {\n",
       "        vertical-align: top;\n",
       "    }\n",
       "\n",
       "    .dataframe thead th {\n",
       "        text-align: right;\n",
       "    }\n",
       "</style>\n",
       "<table border=\"1\" class=\"dataframe\">\n",
       "  <thead>\n",
       "    <tr style=\"text-align: right;\">\n",
       "      <th></th>\n",
       "      <th>id</th>\n",
       "      <th>Brand</th>\n",
       "      <th>Material</th>\n",
       "      <th>Size</th>\n",
       "      <th>Compartments</th>\n",
       "      <th>Laptop Compartment</th>\n",
       "      <th>Waterproof</th>\n",
       "      <th>Style</th>\n",
       "      <th>Color</th>\n",
       "      <th>Weight Capacity (kg)</th>\n",
       "      <th>Price</th>\n",
       "    </tr>\n",
       "  </thead>\n",
       "  <tbody>\n",
       "    <tr>\n",
       "      <th>0</th>\n",
       "      <td>0</td>\n",
       "      <td>Jansport</td>\n",
       "      <td>Leather</td>\n",
       "      <td>Medium</td>\n",
       "      <td>7.0</td>\n",
       "      <td>Yes</td>\n",
       "      <td>No</td>\n",
       "      <td>Tote</td>\n",
       "      <td>Black</td>\n",
       "      <td>11.611723</td>\n",
       "      <td>112.15875</td>\n",
       "    </tr>\n",
       "    <tr>\n",
       "      <th>1</th>\n",
       "      <td>1</td>\n",
       "      <td>Jansport</td>\n",
       "      <td>Canvas</td>\n",
       "      <td>Small</td>\n",
       "      <td>10.0</td>\n",
       "      <td>Yes</td>\n",
       "      <td>Yes</td>\n",
       "      <td>Messenger</td>\n",
       "      <td>Green</td>\n",
       "      <td>27.078537</td>\n",
       "      <td>68.88056</td>\n",
       "    </tr>\n",
       "    <tr>\n",
       "      <th>2</th>\n",
       "      <td>2</td>\n",
       "      <td>Under Armour</td>\n",
       "      <td>Leather</td>\n",
       "      <td>Small</td>\n",
       "      <td>2.0</td>\n",
       "      <td>Yes</td>\n",
       "      <td>No</td>\n",
       "      <td>Messenger</td>\n",
       "      <td>Red</td>\n",
       "      <td>16.643760</td>\n",
       "      <td>39.17320</td>\n",
       "    </tr>\n",
       "    <tr>\n",
       "      <th>3</th>\n",
       "      <td>3</td>\n",
       "      <td>Nike</td>\n",
       "      <td>Nylon</td>\n",
       "      <td>Small</td>\n",
       "      <td>8.0</td>\n",
       "      <td>Yes</td>\n",
       "      <td>No</td>\n",
       "      <td>Messenger</td>\n",
       "      <td>Green</td>\n",
       "      <td>12.937220</td>\n",
       "      <td>80.60793</td>\n",
       "    </tr>\n",
       "    <tr>\n",
       "      <th>4</th>\n",
       "      <td>4</td>\n",
       "      <td>Adidas</td>\n",
       "      <td>Canvas</td>\n",
       "      <td>Medium</td>\n",
       "      <td>1.0</td>\n",
       "      <td>Yes</td>\n",
       "      <td>Yes</td>\n",
       "      <td>Messenger</td>\n",
       "      <td>Green</td>\n",
       "      <td>17.749338</td>\n",
       "      <td>86.02312</td>\n",
       "    </tr>\n",
       "  </tbody>\n",
       "</table>\n",
       "</div>"
      ],
      "text/plain": [
       "   id         Brand Material    Size  Compartments Laptop Compartment  \\\n",
       "0   0      Jansport  Leather  Medium           7.0                Yes   \n",
       "1   1      Jansport   Canvas   Small          10.0                Yes   \n",
       "2   2  Under Armour  Leather   Small           2.0                Yes   \n",
       "3   3          Nike    Nylon   Small           8.0                Yes   \n",
       "4   4        Adidas   Canvas  Medium           1.0                Yes   \n",
       "\n",
       "  Waterproof      Style  Color  Weight Capacity (kg)      Price  \n",
       "0         No       Tote  Black             11.611723  112.15875  \n",
       "1        Yes  Messenger  Green             27.078537   68.88056  \n",
       "2         No  Messenger    Red             16.643760   39.17320  \n",
       "3         No  Messenger  Green             12.937220   80.60793  \n",
       "4        Yes  Messenger  Green             17.749338   86.02312  "
      ]
     },
     "execution_count": 3,
     "metadata": {},
     "output_type": "execute_result"
    }
   ],
   "source": [
    "full_data=pd.read_csv(\"/kaggle/input/playground-series-s5e2/train.csv\")\n",
    "full_data.head()"
   ]
  },
  {
   "cell_type": "markdown",
   "id": "1695a93a",
   "metadata": {
    "papermill": {
     "duration": 0.007779,
     "end_time": "2025-02-17T15:40:17.512088",
     "exception": false,
     "start_time": "2025-02-17T15:40:17.504309",
     "status": "completed"
    },
    "tags": []
   },
   "source": [
    "## Visualization of data distribution"
   ]
  },
  {
   "cell_type": "code",
   "execution_count": 4,
   "id": "9b7b96bd",
   "metadata": {
    "execution": {
     "iopub.execute_input": "2025-02-17T15:40:17.529860Z",
     "iopub.status.busy": "2025-02-17T15:40:17.529472Z",
     "iopub.status.idle": "2025-02-17T15:40:29.055633Z",
     "shell.execute_reply": "2025-02-17T15:40:29.054006Z"
    },
    "papermill": {
     "duration": 11.538141,
     "end_time": "2025-02-17T15:40:29.058177",
     "exception": false,
     "start_time": "2025-02-17T15:40:17.520036",
     "status": "completed"
    },
    "tags": []
   },
   "outputs": [
    {
     "data": {
      "image/png": "[encoded data removed]",
      "text/plain": [
       "<Figure size 1200x800 with 4 Axes>"
      ]
     },
     "metadata": {},
     "output_type": "display_data"
    },
    {
     "data": {
      "image/png": "[encoded data removed]",
      "text/plain": [
       "<Figure size 1200x1600 with 7 Axes>"
      ]
     },
     "metadata": {},
     "output_type": "display_data"
    }
   ],
   "source": [
    "import pandas as pd\n",
    "import matplotlib.pyplot as plt\n",
    "import seaborn as sns\n",
    "import math\n",
    "\n",
    "# Load the dataset (update the filename as needed)\n",
    "df = full_data\n",
    "\n",
    "# Set up the plotting style\n",
    "sns.set(style=\"whitegrid\")\n",
    "\n",
    "# Plot numerical columns\n",
    "num_cols = df.select_dtypes(include=[\"number\"]).columns\n",
    "num_rows = math.ceil(len(num_cols) / 2)  # Arrange in two columns\n",
    "\n",
    "fig, axes = plt.subplots(num_rows, 2, figsize=(12, 4 * num_rows))\n",
    "fig.suptitle(\"Distributions of Numerical Columns\", fontsize=16)\n",
    "\n",
    "for i, col in enumerate(num_cols):\n",
    "    row, col_idx = divmod(i, 2)\n",
    "    sns.histplot(df[col], kde=True, bins=20, ax=axes[row, col_idx])\n",
    "    axes[row, col_idx].set_title(f\"Distribution of {col}\")\n",
    "\n",
    "# Hide empty subplots if odd number of numerical columns\n",
    "if len(num_cols) % 2 != 0:\n",
    "    fig.delaxes(axes[-1, -1])\n",
    "\n",
    "plt.tight_layout(rect=[0, 0, 1, 0.96])  # Adjust layout\n",
    "plt.show()\n",
    "\n",
    "# Plot categorical columns\n",
    "cat_cols = df.select_dtypes(exclude=[\"number\"]).columns\n",
    "num_rows = math.ceil(len(cat_cols) / 2)\n",
    "\n",
    "fig, axes = plt.subplots(num_rows, 2, figsize=(12, 4 * num_rows))\n",
    "fig.suptitle(\"Distributions of Categorical Columns\", fontsize=16)\n",
    "\n",
    "for i, col in enumerate(cat_cols):\n",
    "    row, col_idx = divmod(i, 2)\n",
    "    sns.countplot(y=df[col], order=df[col].value_counts().index, ax=axes[row, col_idx])\n",
    "    axes[row, col_idx].set_title(f\"Distribution of {col}\")\n",
    "\n",
    "# Hide empty subplots if odd number of categorical columns\n",
    "if len(cat_cols) % 2 != 0:\n",
    "    fig.delaxes(axes[-1, -1])\n",
    "\n",
    "plt.tight_layout(rect=[0, 0, 1, 0.96])\n",
    "plt.show()\n"
   ]
  },
  {
   "cell_type": "markdown",
   "id": "c55b1881",
   "metadata": {
    "papermill": {
     "duration": 0.01434,
     "end_time": "2025-02-17T15:40:29.088409",
     "exception": false,
     "start_time": "2025-02-17T15:40:29.074069",
     "status": "completed"
    },
    "tags": []
   },
   "source": [
    "## Data analysis\n",
    "\n",
    "There are compartment, capacity, and price as a numerical variables and Brand, Material, Size, Laptop Compartment, Waterproof, Style and Color as a categorical variables. In the analysis below, there are NaN entries for each categorical variables."
   ]
  },
  {
   "cell_type": "code",
   "execution_count": 5,
   "id": "19a8c4bc",
   "metadata": {
    "execution": {
     "iopub.execute_input": "2025-02-17T15:40:29.119828Z",
     "iopub.status.busy": "2025-02-17T15:40:29.119193Z",
     "iopub.status.idle": "2025-02-17T15:40:29.218237Z",
     "shell.execute_reply": "2025-02-17T15:40:29.216737Z"
    },
    "papermill": {
     "duration": 0.117837,
     "end_time": "2025-02-17T15:40:29.221728",
     "exception": false,
     "start_time": "2025-02-17T15:40:29.103891",
     "status": "completed"
    },
    "tags": []
   },
   "outputs": [
    {
     "name": "stdout",
     "output_type": "stream",
     "text": [
      "Brand ['Jansport' 'Under Armour' 'Nike' 'Adidas' 'Puma' nan]\n",
      "Material ['Leather' 'Canvas' 'Nylon' nan 'Polyester']\n",
      "Size ['Medium' 'Small' 'Large' nan]\n",
      "Laptop Compartment ['Yes' 'No' nan]\n",
      "Waterproof ['No' 'Yes' nan]\n",
      "Style ['Tote' 'Messenger' nan 'Backpack']\n",
      "Color ['Black' 'Green' 'Red' 'Blue' 'Gray' 'Pink' nan]\n"
     ]
    }
   ],
   "source": [
    "for cols in full_data:\n",
    "    if full_data.loc[:, cols].dtype=='object':\n",
    "        print(cols, full_data.loc[:,cols].unique())"
   ]
  },
  {
   "cell_type": "markdown",
   "id": "1bb0e8bc",
   "metadata": {
    "papermill": {
     "duration": 0.01515,
     "end_time": "2025-02-17T15:40:29.253995",
     "exception": false,
     "start_time": "2025-02-17T15:40:29.238845",
     "status": "completed"
    },
    "tags": []
   },
   "source": [
    "# Train-test split\n",
    "\n",
    "Before preprocessing, train-test split is required to prevent data leakage. Full data is divided in to data X and label y."
   ]
  },
  {
   "cell_type": "code",
   "execution_count": 6,
   "id": "4d6a06ff",
   "metadata": {
    "execution": {
     "iopub.execute_input": "2025-02-17T15:40:29.286491Z",
     "iopub.status.busy": "2025-02-17T15:40:29.286050Z",
     "iopub.status.idle": "2025-02-17T15:40:29.314730Z",
     "shell.execute_reply": "2025-02-17T15:40:29.313339Z"
    },
    "papermill": {
     "duration": 0.046329,
     "end_time": "2025-02-17T15:40:29.317049",
     "exception": false,
     "start_time": "2025-02-17T15:40:29.270720",
     "status": "completed"
    },
    "tags": []
   },
   "outputs": [],
   "source": [
    "X = full_data.loc[:, full_data.columns != 'Price']\n",
    "y = full_data.loc[:, full_data.columns == 'Price']"
   ]
  },
  {
   "cell_type": "code",
   "execution_count": 7,
   "id": "90490865",
   "metadata": {
    "execution": {
     "iopub.execute_input": "2025-02-17T15:40:29.349199Z",
     "iopub.status.busy": "2025-02-17T15:40:29.348719Z",
     "iopub.status.idle": "2025-02-17T15:40:29.817533Z",
     "shell.execute_reply": "2025-02-17T15:40:29.815986Z"
    },
    "papermill": {
     "duration": 0.487516,
     "end_time": "2025-02-17T15:40:29.819526",
     "exception": false,
     "start_time": "2025-02-17T15:40:29.332010",
     "status": "completed"
    },
    "tags": []
   },
   "outputs": [
    {
     "name": "stdout",
     "output_type": "stream",
     "text": [
      "(210000, 10) (210000, 1) (90000, 10) (90000, 1)\n",
      "Split Done\n"
     ]
    }
   ],
   "source": [
    "from sklearn.model_selection import train_test_split\n",
    "\n",
    "X_train, X_valid, y_train, y_valid = train_test_split(X,y, test_size=0.3)\n",
    "print(X_train.shape, y_train.shape, X_valid.shape, y_valid.shape)\n",
    "print(\"Split Done\")"
   ]
  },
  {
   "cell_type": "markdown",
   "id": "63a7bc6a",
   "metadata": {
    "papermill": {
     "duration": 0.013708,
     "end_time": "2025-02-17T15:40:29.847181",
     "exception": false,
     "start_time": "2025-02-17T15:40:29.833473",
     "status": "completed"
    },
    "tags": []
   },
   "source": [
    "# Data Preprocessing"
   ]
  },
  {
   "cell_type": "markdown",
   "id": "d77ee5c8",
   "metadata": {
    "papermill": {
     "duration": 0.013458,
     "end_time": "2025-02-17T15:40:29.874988",
     "exception": false,
     "start_time": "2025-02-17T15:40:29.861530",
     "status": "completed"
    },
    "tags": []
   },
   "source": [
    "Identifying the number of missing entries for each columns."
   ]
  },
  {
   "cell_type": "code",
   "execution_count": 8,
   "id": "0000b527",
   "metadata": {
    "execution": {
     "iopub.execute_input": "2025-02-17T15:40:29.904823Z",
     "iopub.status.busy": "2025-02-17T15:40:29.904385Z",
     "iopub.status.idle": "2025-02-17T15:40:30.071250Z",
     "shell.execute_reply": "2025-02-17T15:40:30.069668Z"
    },
    "papermill": {
     "duration": 0.184381,
     "end_time": "2025-02-17T15:40:30.073263",
     "exception": false,
     "start_time": "2025-02-17T15:40:29.888882",
     "status": "completed"
    },
    "tags": []
   },
   "outputs": [
    {
     "name": "stdout",
     "output_type": "stream",
     "text": [
      "id | 0.00% missing (0 missing)\n",
      "Brand | 3.21% missing (6747 missing)\n",
      "Material | 2.77% missing (5824 missing)\n",
      "Size | 2.19% missing (4605 missing)\n",
      "Compartments | 0.00% missing (0 missing)\n",
      "Laptop Compartment | 2.48% missing (5210 missing)\n",
      "Waterproof | 2.34% missing (4915 missing)\n",
      "Style | 2.64% missing (5547 missing)\n",
      "Color | 3.28% missing (6883 missing)\n",
      "Weight Capacity (kg) | 0.04% missing (93 missing)\n"
     ]
    }
   ],
   "source": [
    "for col in X_train.columns:\n",
    "    ratio=X_train.loc[:, col].isna().sum()*100/X_train.loc[:, col].shape[0]\n",
    "    print(f\"{col} | {ratio:.2f}% missing ({X_train.loc[:, col].isna().sum()} missing)\")"
   ]
  },
  {
   "cell_type": "markdown",
   "id": "5ce47733",
   "metadata": {
    "papermill": {
     "duration": 0.013706,
     "end_time": "2025-02-17T15:40:30.101617",
     "exception": false,
     "start_time": "2025-02-17T15:40:30.087911",
     "status": "completed"
    },
    "tags": []
   },
   "source": [
    "All columns has missing values less than 5%, so imputation is appropriate"
   ]
  },
  {
   "cell_type": "markdown",
   "id": "7e9a7d08",
   "metadata": {
    "papermill": {
     "duration": 0.015988,
     "end_time": "2025-02-17T15:40:30.132471",
     "exception": false,
     "start_time": "2025-02-17T15:40:30.116483",
     "status": "completed"
    },
    "tags": []
   },
   "source": [
    "Among numerical variables, only weight capacity has missing value. Since it is floating point value with weights in kilograms, mean value imputation is feasible."
   ]
  },
  {
   "cell_type": "code",
   "execution_count": 9,
   "id": "da3c40cc",
   "metadata": {
    "execution": {
     "iopub.execute_input": "2025-02-17T15:40:30.163050Z",
     "iopub.status.busy": "2025-02-17T15:40:30.162632Z",
     "iopub.status.idle": "2025-02-17T15:40:30.171078Z",
     "shell.execute_reply": "2025-02-17T15:40:30.169385Z"
    },
    "papermill": {
     "duration": 0.027064,
     "end_time": "2025-02-17T15:40:30.173617",
     "exception": false,
     "start_time": "2025-02-17T15:40:30.146553",
     "status": "completed"
    },
    "tags": []
   },
   "outputs": [
    {
     "data": {
      "text/plain": [
       "['id', 'Compartments', 'Weight Capacity (kg)']"
      ]
     },
     "execution_count": 9,
     "metadata": {},
     "output_type": "execute_result"
    }
   ],
   "source": [
    "[cols for cols in X_train.columns if X_train.loc[:, cols].dtype!='object']"
   ]
  },
  {
   "cell_type": "code",
   "execution_count": 10,
   "id": "408cdd6f",
   "metadata": {
    "execution": {
     "iopub.execute_input": "2025-02-17T15:40:30.203676Z",
     "iopub.status.busy": "2025-02-17T15:40:30.203281Z",
     "iopub.status.idle": "2025-02-17T15:40:30.219116Z",
     "shell.execute_reply": "2025-02-17T15:40:30.217862Z"
    },
    "papermill": {
     "duration": 0.033435,
     "end_time": "2025-02-17T15:40:30.220973",
     "exception": false,
     "start_time": "2025-02-17T15:40:30.187538",
     "status": "completed"
    },
    "tags": []
   },
   "outputs": [
    {
     "name": "stdout",
     "output_type": "stream",
     "text": [
      "before:  93\n",
      "after: 0\n"
     ]
    }
   ],
   "source": [
    "# Mean value imputation\n",
    "print(\"before: \", X_train.loc[:, 'Weight Capacity (kg)'].isna().sum())\n",
    "X_train['Weight Capacity (kg)'].fillna(X_train['Weight Capacity (kg)'].mean(), inplace=True)\n",
    "X_valid['Weight Capacity (kg)'].fillna(X_valid['Weight Capacity (kg)'].mean(), inplace=True)\n",
    "print(\"after:\", X_train.loc[:, 'Weight Capacity (kg)'].isna().sum())\n"
   ]
  },
  {
   "cell_type": "markdown",
   "id": "7ad3d433",
   "metadata": {
    "papermill": {
     "duration": 0.014214,
     "end_time": "2025-02-17T15:40:30.249456",
     "exception": false,
     "start_time": "2025-02-17T15:40:30.235242",
     "status": "completed"
    },
    "tags": []
   },
   "source": [
    "Imputation of categorical column is done by most frequent entries for each column."
   ]
  },
  {
   "cell_type": "code",
   "execution_count": 11,
   "id": "d6816dfa",
   "metadata": {
    "execution": {
     "iopub.execute_input": "2025-02-17T15:40:30.279995Z",
     "iopub.status.busy": "2025-02-17T15:40:30.279619Z",
     "iopub.status.idle": "2025-02-17T15:40:30.856169Z",
     "shell.execute_reply": "2025-02-17T15:40:30.854902Z"
    },
    "papermill": {
     "duration": 0.594302,
     "end_time": "2025-02-17T15:40:30.858183",
     "exception": false,
     "start_time": "2025-02-17T15:40:30.263881",
     "status": "completed"
    },
    "tags": []
   },
   "outputs": [],
   "source": [
    "from sklearn.impute import SimpleImputer\n",
    "object_cols = [cols for cols in X_train.columns if X_train.loc[:, cols].dtype=='object']\n",
    "\n",
    "cat_imputer = SimpleImputer(strategy='most_frequent')\n",
    "X_train[object_cols] = cat_imputer.fit_transform(X_train[object_cols])\n",
    "X_valid[object_cols] = cat_imputer.transform(X_valid[object_cols])"
   ]
  },
  {
   "cell_type": "code",
   "execution_count": 12,
   "id": "1e2970a3",
   "metadata": {
    "execution": {
     "iopub.execute_input": "2025-02-17T15:40:30.891207Z",
     "iopub.status.busy": "2025-02-17T15:40:30.890803Z",
     "iopub.status.idle": "2025-02-17T15:40:31.055806Z",
     "shell.execute_reply": "2025-02-17T15:40:31.054265Z"
    },
    "papermill": {
     "duration": 0.183015,
     "end_time": "2025-02-17T15:40:31.057675",
     "exception": false,
     "start_time": "2025-02-17T15:40:30.874660",
     "status": "completed"
    },
    "tags": []
   },
   "outputs": [
    {
     "name": "stdout",
     "output_type": "stream",
     "text": [
      "id | 0.00% missing (0 missing)\n",
      "Brand | 0.00% missing (0 missing)\n",
      "Material | 0.00% missing (0 missing)\n",
      "Size | 0.00% missing (0 missing)\n",
      "Compartments | 0.00% missing (0 missing)\n",
      "Laptop Compartment | 0.00% missing (0 missing)\n",
      "Waterproof | 0.00% missing (0 missing)\n",
      "Style | 0.00% missing (0 missing)\n",
      "Color | 0.00% missing (0 missing)\n",
      "Weight Capacity (kg) | 0.00% missing (0 missing)\n",
      "\n",
      "Training dataset imputation complete\n"
     ]
    }
   ],
   "source": [
    "# Train dataset missing ratio\n",
    "missing_cols=0\n",
    "for col in X_train.columns:\n",
    "    ratio=X_train.loc[:, col].isna().sum()*100/X_train.loc[:, col].shape[0]\n",
    "    print(f\"{col} | {ratio:.2f}% missing ({X_train.loc[:, col].isna().sum()} missing)\")\n",
    "    if ratio!=0:\n",
    "        missing_cols+=1\n",
    "if missing_cols==0:\n",
    "    print(\"\\nTraining dataset imputation complete\")\n",
    "else:\n",
    "    print(\"\\nTraining dataset imputation incomplete\")"
   ]
  },
  {
   "cell_type": "code",
   "execution_count": 13,
   "id": "35a6674b",
   "metadata": {
    "execution": {
     "iopub.execute_input": "2025-02-17T15:40:31.086899Z",
     "iopub.status.busy": "2025-02-17T15:40:31.086484Z",
     "iopub.status.idle": "2025-02-17T15:40:31.169411Z",
     "shell.execute_reply": "2025-02-17T15:40:31.167587Z"
    },
    "papermill": {
     "duration": 0.101219,
     "end_time": "2025-02-17T15:40:31.172877",
     "exception": false,
     "start_time": "2025-02-17T15:40:31.071658",
     "status": "completed"
    },
    "tags": []
   },
   "outputs": [
    {
     "name": "stdout",
     "output_type": "stream",
     "text": [
      "id | 0.00% missing (0 missing)\n",
      "Brand | 0.00% missing (0 missing)\n",
      "Material | 0.00% missing (0 missing)\n",
      "Size | 0.00% missing (0 missing)\n",
      "Compartments | 0.00% missing (0 missing)\n",
      "Laptop Compartment | 0.00% missing (0 missing)\n",
      "Waterproof | 0.00% missing (0 missing)\n",
      "Style | 0.00% missing (0 missing)\n",
      "Color | 0.00% missing (0 missing)\n",
      "Weight Capacity (kg) | 0.00% missing (0 missing)\n",
      "\n",
      "Validation dataset imputation complete\n"
     ]
    }
   ],
   "source": [
    "# Validation dataset missing ratio\n",
    "missing_cols=0\n",
    "for col in X_valid.columns:\n",
    "    ratio=X_valid.loc[:, col].isna().sum()*100/X_valid.loc[:, col].shape[0]\n",
    "    print(f\"{col} | {ratio:.2f}% missing ({X_valid.loc[:, col].isna().sum()} missing)\")\n",
    "    if ratio != 0:\n",
    "        missing_cols+=1\n",
    "if missing_cols==0:\n",
    "    print(\"\\nValidation dataset imputation complete\")\n",
    "else:\n",
    "    print(\"\\nValidataion dataset imputation incomplete\")"
   ]
  },
  {
   "cell_type": "code",
   "execution_count": 14,
   "id": "4d5e200d",
   "metadata": {
    "execution": {
     "iopub.execute_input": "2025-02-17T15:40:31.204377Z",
     "iopub.status.busy": "2025-02-17T15:40:31.203943Z",
     "iopub.status.idle": "2025-02-17T15:40:31.211283Z",
     "shell.execute_reply": "2025-02-17T15:40:31.210244Z"
    },
    "papermill": {
     "duration": 0.024786,
     "end_time": "2025-02-17T15:40:31.213143",
     "exception": false,
     "start_time": "2025-02-17T15:40:31.188357",
     "status": "completed"
    },
    "tags": []
   },
   "outputs": [
    {
     "name": "stdout",
     "output_type": "stream",
     "text": [
      "Price    0\n",
      "dtype: int64\n"
     ]
    }
   ],
   "source": [
    "print(y.isna().sum())"
   ]
  },
  {
   "cell_type": "markdown",
   "id": "cfbd719b",
   "metadata": {
    "papermill": {
     "duration": 0.01354,
     "end_time": "2025-02-17T15:40:31.241072",
     "exception": false,
     "start_time": "2025-02-17T15:40:31.227532",
     "status": "completed"
    },
    "tags": []
   },
   "source": [
    "Imputation Complete"
   ]
  },
  {
   "cell_type": "markdown",
   "id": "dd1834ec",
   "metadata": {
    "papermill": {
     "duration": 0.014779,
     "end_time": "2025-02-17T15:40:31.270023",
     "exception": false,
     "start_time": "2025-02-17T15:40:31.255244",
     "status": "completed"
    },
    "tags": []
   },
   "source": [
    "# Categorical variable ordinal and one-hot encoding"
   ]
  },
  {
   "cell_type": "code",
   "execution_count": 15,
   "id": "a3de6cf3",
   "metadata": {
    "execution": {
     "iopub.execute_input": "2025-02-17T15:40:31.299276Z",
     "iopub.status.busy": "2025-02-17T15:40:31.298924Z",
     "iopub.status.idle": "2025-02-17T15:40:31.304696Z",
     "shell.execute_reply": "2025-02-17T15:40:31.303460Z"
    },
    "papermill": {
     "duration": 0.022473,
     "end_time": "2025-02-17T15:40:31.306446",
     "exception": false,
     "start_time": "2025-02-17T15:40:31.283973",
     "status": "completed"
    },
    "tags": []
   },
   "outputs": [
    {
     "name": "stdout",
     "output_type": "stream",
     "text": [
      "[dtype('int64'), dtype('O'), dtype('O'), dtype('O'), dtype('float64'), dtype('O'), dtype('O'), dtype('O'), dtype('O'), dtype('float64')]\n"
     ]
    }
   ],
   "source": [
    "print([X_train.loc[:,col].dtype for col in X_train.columns])"
   ]
  },
  {
   "cell_type": "markdown",
   "id": "16b478ee",
   "metadata": {
    "papermill": {
     "duration": 0.014454,
     "end_time": "2025-02-17T15:40:31.334748",
     "exception": false,
     "start_time": "2025-02-17T15:40:31.320294",
     "status": "completed"
    },
    "tags": []
   },
   "source": [
    "## Ordinal encoding for variable \"Size\""
   ]
  },
  {
   "cell_type": "markdown",
   "id": "aa44bc53",
   "metadata": {
    "papermill": {
     "duration": 0.013857,
     "end_time": "2025-02-17T15:40:31.363253",
     "exception": false,
     "start_time": "2025-02-17T15:40:31.349396",
     "status": "completed"
    },
    "tags": []
   },
   "source": [
    "Its unique values are small, medium, large which has an order."
   ]
  },
  {
   "cell_type": "code",
   "execution_count": 16,
   "id": "57e3e8d6",
   "metadata": {
    "execution": {
     "iopub.execute_input": "2025-02-17T15:40:31.394259Z",
     "iopub.status.busy": "2025-02-17T15:40:31.393887Z",
     "iopub.status.idle": "2025-02-17T15:40:31.471643Z",
     "shell.execute_reply": "2025-02-17T15:40:31.470301Z"
    },
    "papermill": {
     "duration": 0.096247,
     "end_time": "2025-02-17T15:40:31.473618",
     "exception": false,
     "start_time": "2025-02-17T15:40:31.377371",
     "status": "completed"
    },
    "tags": []
   },
   "outputs": [],
   "source": [
    "# Ordinal: Size\n",
    "from sklearn.preprocessing import OrdinalEncoder\n",
    "\n",
    "ord_encoder = OrdinalEncoder()\n",
    "X_train['Size'] = ord_encoder.fit_transform(X_train['Size'].values.reshape(-1,1))\n",
    "X_valid['Size'] = ord_encoder.transform(X_valid['Size'].values.reshape(-1,1))"
   ]
  },
  {
   "cell_type": "markdown",
   "id": "d9c62f5b",
   "metadata": {
    "papermill": {
     "duration": 0.013672,
     "end_time": "2025-02-17T15:40:31.501355",
     "exception": false,
     "start_time": "2025-02-17T15:40:31.487683",
     "status": "completed"
    },
    "tags": []
   },
   "source": [
    "Other object variables are non ordinal, therefore one hot encoding is a better choice."
   ]
  },
  {
   "cell_type": "code",
   "execution_count": 17,
   "id": "13d38652",
   "metadata": {
    "execution": {
     "iopub.execute_input": "2025-02-17T15:40:31.531364Z",
     "iopub.status.busy": "2025-02-17T15:40:31.530967Z",
     "iopub.status.idle": "2025-02-17T15:40:32.227898Z",
     "shell.execute_reply": "2025-02-17T15:40:32.226806Z"
    },
    "papermill": {
     "duration": 0.714214,
     "end_time": "2025-02-17T15:40:32.229691",
     "exception": false,
     "start_time": "2025-02-17T15:40:31.515477",
     "status": "completed"
    },
    "tags": []
   },
   "outputs": [],
   "source": [
    "from sklearn.preprocessing import OneHotEncoder\n",
    "object_cols = [cols for cols in X_train.columns if X_train.loc[:,cols].dtype=='object']\n",
    "OH_encoder = OneHotEncoder(handle_unknown='ignore', sparse=False)\n",
    "OH_cols_train = pd.DataFrame(OH_encoder.fit_transform(X_train[object_cols]))\n",
    "OH_cols_valid = pd.DataFrame(OH_encoder.transform(X_valid[object_cols]))\n",
    "\n",
    "# One-hot encoding removed index; put it back\n",
    "OH_cols_train.index = X_train.index\n",
    "OH_cols_valid.index = X_valid.index\n",
    "\n",
    "# Remove categorical columns (will replace with one-hot encoding)\n",
    "num_X_train = X_train.drop(object_cols, axis=1)\n",
    "num_X_valid = X_valid.drop(object_cols, axis=1)\n",
    "\n",
    "# Add one-hot encoded columns to numerical features\n",
    "X_train = pd.concat([num_X_train, OH_cols_train], axis=1)\n",
    "X_valid = pd.concat([num_X_valid, OH_cols_valid], axis=1)"
   ]
  },
  {
   "cell_type": "code",
   "execution_count": 18,
   "id": "e5069278",
   "metadata": {
    "execution": {
     "iopub.execute_input": "2025-02-17T15:40:32.260249Z",
     "iopub.status.busy": "2025-02-17T15:40:32.259890Z",
     "iopub.status.idle": "2025-02-17T15:40:32.271210Z",
     "shell.execute_reply": "2025-02-17T15:40:32.270079Z"
    },
    "papermill": {
     "duration": 0.029136,
     "end_time": "2025-02-17T15:40:32.273118",
     "exception": false,
     "start_time": "2025-02-17T15:40:32.243982",
     "status": "completed"
    },
    "tags": []
   },
   "outputs": [
    {
     "name": "stdout",
     "output_type": "stream",
     "text": [
      "Encoding for training dataset complete\n",
      "Encoding for validation dataset complete\n"
     ]
    }
   ],
   "source": [
    "X_train_dtypes = [cols for cols in X_train.columns if X_train.loc[:,cols].dtype == 'object']\n",
    "X_valid_dtypes = [cols for cols in X_valid.columns if X_valid.loc[:,cols].dtype == 'object']\n",
    "if len(X_train_dtypes) == 0 : \n",
    "    print(\"Encoding for training dataset complete\")\n",
    "else:\n",
    "    print(\"Encoding for training dataset incomplete\")\n",
    "\n",
    "if len(X_valid_dtypes) == 0 : \n",
    "    print(\"Encoding for validation dataset complete\")\n",
    "else:\n",
    "    print(\"Encoding for validation dataset incomplete\")"
   ]
  },
  {
   "cell_type": "markdown",
   "id": "bcc3d1bb",
   "metadata": {
    "papermill": {
     "duration": 0.014225,
     "end_time": "2025-02-17T15:40:32.301804",
     "exception": false,
     "start_time": "2025-02-17T15:40:32.287579",
     "status": "completed"
    },
    "tags": []
   },
   "source": [
    "Encoding Complete"
   ]
  },
  {
   "cell_type": "markdown",
   "id": "7d4d6292",
   "metadata": {
    "papermill": {
     "duration": 0.016822,
     "end_time": "2025-02-17T15:40:32.332630",
     "exception": false,
     "start_time": "2025-02-17T15:40:32.315808",
     "status": "completed"
    },
    "tags": []
   },
   "source": [
    "# Model fitting with CatBoost Regressor"
   ]
  },
  {
   "cell_type": "code",
   "execution_count": 19,
   "id": "8c34e862",
   "metadata": {
    "execution": {
     "iopub.execute_input": "2025-02-17T15:40:32.377119Z",
     "iopub.status.busy": "2025-02-17T15:40:32.376559Z",
     "iopub.status.idle": "2025-02-17T15:40:59.359622Z",
     "shell.execute_reply": "2025-02-17T15:40:59.358180Z"
    },
    "papermill": {
     "duration": 27.009901,
     "end_time": "2025-02-17T15:40:59.361584",
     "exception": false,
     "start_time": "2025-02-17T15:40:32.351683",
     "status": "completed"
    },
    "tags": []
   },
   "outputs": [
    {
     "name": "stdout",
     "output_type": "stream",
     "text": [
      "39.00983240546196\n"
     ]
    }
   ],
   "source": [
    "from sklearn.metrics import mean_squared_error\n",
    "from catboost import CatBoostRegressor\n",
    "\n",
    "obj_cols = [cols for cols in X_train.columns if X_train.loc[:,cols].dtype == 'object']\n",
    "\n",
    "model_2 = CatBoostRegressor(\n",
    "        iterations=2000,\n",
    "        learning_rate=0.1,\n",
    "        depth=4)\n",
    "\n",
    "model_2.fit(X_train, y_train, \n",
    "            eval_set=(X_valid, y_valid), \n",
    "            cat_features=list(obj_cols), \n",
    "            verbose=False)\n",
    "\n",
    "prediction_2=model_2.predict(X_valid)\n",
    "\n",
    "prediction = prediction_2\n",
    "\n",
    "rmse = mean_squared_error(prediction, y_valid) ** 0.5\n",
    "print(rmse)"
   ]
  },
  {
   "cell_type": "markdown",
   "id": "468602f2",
   "metadata": {
    "papermill": {
     "duration": 0.014762,
     "end_time": "2025-02-17T15:40:59.391023",
     "exception": false,
     "start_time": "2025-02-17T15:40:59.376261",
     "status": "completed"
    },
    "tags": []
   },
   "source": [
    "# Test data preprocessing"
   ]
  },
  {
   "cell_type": "code",
   "execution_count": 20,
   "id": "ede28b6f",
   "metadata": {
    "execution": {
     "iopub.execute_input": "2025-02-17T15:40:59.420897Z",
     "iopub.status.busy": "2025-02-17T15:40:59.420391Z",
     "iopub.status.idle": "2025-02-17T15:40:59.907972Z",
     "shell.execute_reply": "2025-02-17T15:40:59.906310Z"
    },
    "papermill": {
     "duration": 0.504689,
     "end_time": "2025-02-17T15:40:59.909983",
     "exception": false,
     "start_time": "2025-02-17T15:40:59.405294",
     "status": "completed"
    },
    "tags": []
   },
   "outputs": [
    {
     "name": "stdout",
     "output_type": "stream",
     "text": [
      "id 0\n",
      "Brand 6227\n",
      "Material 5613\n",
      "Size 4381\n",
      "Compartments 0\n",
      "Laptop Compartment 4962\n",
      "Waterproof 4811\n",
      "Style 5153\n",
      "Color 6785\n",
      "Weight Capacity (kg) 77\n"
     ]
    }
   ],
   "source": [
    "X_test = pd.read_csv(\"/kaggle/input/playground-series-s5e2/test.csv\")\n",
    "\n",
    "for cols in X_test.columns:\n",
    "    print(cols, X_test.loc[:,cols].isna().sum())\n",
    "\n",
    "X_test['Weight Capacity (kg)'].fillna(X_test['Weight Capacity (kg)'].mean(), inplace=True)\n"
   ]
  },
  {
   "cell_type": "code",
   "execution_count": 21,
   "id": "ccc68f99",
   "metadata": {
    "execution": {
     "iopub.execute_input": "2025-02-17T15:40:59.941140Z",
     "iopub.status.busy": "2025-02-17T15:40:59.940784Z",
     "iopub.status.idle": "2025-02-17T15:41:00.310345Z",
     "shell.execute_reply": "2025-02-17T15:41:00.309216Z"
    },
    "papermill": {
     "duration": 0.387565,
     "end_time": "2025-02-17T15:41:00.312378",
     "exception": false,
     "start_time": "2025-02-17T15:40:59.924813",
     "status": "completed"
    },
    "tags": []
   },
   "outputs": [
    {
     "name": "stdout",
     "output_type": "stream",
     "text": [
      "id | 0.00% missing (0 missing)\n",
      "Brand | 0.00% missing (0 missing)\n",
      "Material | 0.00% missing (0 missing)\n",
      "Size | 0.00% missing (0 missing)\n",
      "Compartments | 0.00% missing (0 missing)\n",
      "Laptop Compartment | 0.00% missing (0 missing)\n",
      "Waterproof | 0.00% missing (0 missing)\n",
      "Style | 0.00% missing (0 missing)\n",
      "Color | 0.00% missing (0 missing)\n",
      "Weight Capacity (kg) | 0.00% missing (0 missing)\n",
      "Imputation for test dataset complete\n"
     ]
    }
   ],
   "source": [
    "from sklearn.impute import SimpleImputer\n",
    "object_cols = [cols for cols in X_test.columns if X_test.loc[:, cols].dtype=='object']\n",
    "\n",
    "cat_imputer = SimpleImputer(strategy='most_frequent')\n",
    "X_test[object_cols] = cat_imputer.fit_transform(X_test[object_cols])\n",
    "\n",
    "missing_cols=0\n",
    "for col in X_test.columns:\n",
    "    ratio=X_test.loc[:, col].isna().sum()*100/X_test.loc[:, col].shape[0]\n",
    "    print(f\"{col} | {ratio:.2f}% missing ({X_test.loc[:, col].isna().sum()} missing)\")\n",
    "    if ratio !=0 :\n",
    "        missing_cols+=1\n",
    "if missing_cols==0:\n",
    "    print(\"Imputation for test dataset complete\")\n",
    "else:\n",
    "    print(\"Imputation for test dataset incomplete\")"
   ]
  },
  {
   "cell_type": "code",
   "execution_count": 22,
   "id": "d4b156d6",
   "metadata": {
    "execution": {
     "iopub.execute_input": "2025-02-17T15:41:00.342267Z",
     "iopub.status.busy": "2025-02-17T15:41:00.341919Z",
     "iopub.status.idle": "2025-02-17T15:41:00.870136Z",
     "shell.execute_reply": "2025-02-17T15:41:00.869041Z"
    },
    "papermill": {
     "duration": 0.545339,
     "end_time": "2025-02-17T15:41:00.872176",
     "exception": false,
     "start_time": "2025-02-17T15:41:00.326837",
     "status": "completed"
    },
    "tags": []
   },
   "outputs": [],
   "source": [
    "ord_encoder = OrdinalEncoder()\n",
    "X_test['Size'] = ord_encoder.fit_transform(X_test['Size'].values.reshape(-1,1))\n",
    "\n",
    "object_cols = [cols for cols in X_test.columns if X_test.loc[:,cols].dtype=='object']\n",
    "OH_encoder = OneHotEncoder(handle_unknown='ignore', sparse=False)\n",
    "OH_cols_test = pd.DataFrame(OH_encoder.fit_transform(X_test[object_cols]))\n",
    "\n",
    "# One-hot encoding removed index; put it back\n",
    "OH_cols_test.index = X_test.index\n",
    "\n",
    "# Remove categorical columns (will replace with one-hot encoding)\n",
    "num_X_test = X_test.drop(object_cols, axis=1)\n",
    "\n",
    "# Add one-hot encoded columns to numerical features\n",
    "X_test = pd.concat([num_X_test, OH_cols_test], axis=1)"
   ]
  },
  {
   "cell_type": "code",
   "execution_count": 23,
   "id": "f8222608",
   "metadata": {
    "execution": {
     "iopub.execute_input": "2025-02-17T15:41:00.902953Z",
     "iopub.status.busy": "2025-02-17T15:41:00.902592Z",
     "iopub.status.idle": "2025-02-17T15:41:00.930652Z",
     "shell.execute_reply": "2025-02-17T15:41:00.929354Z"
    },
    "papermill": {
     "duration": 0.045441,
     "end_time": "2025-02-17T15:41:00.932377",
     "exception": false,
     "start_time": "2025-02-17T15:41:00.886936",
     "status": "completed"
    },
    "tags": []
   },
   "outputs": [
    {
     "data": {
      "text/html": [
       "<div>\n",
       "<style scoped>\n",
       "    .dataframe tbody tr th:only-of-type {\n",
       "        vertical-align: middle;\n",
       "    }\n",
       "\n",
       "    .dataframe tbody tr th {\n",
       "        vertical-align: top;\n",
       "    }\n",
       "\n",
       "    .dataframe thead th {\n",
       "        text-align: right;\n",
       "    }\n",
       "</style>\n",
       "<table border=\"1\" class=\"dataframe\">\n",
       "  <thead>\n",
       "    <tr style=\"text-align: right;\">\n",
       "      <th></th>\n",
       "      <th>id</th>\n",
       "      <th>Size</th>\n",
       "      <th>Compartments</th>\n",
       "      <th>Weight Capacity (kg)</th>\n",
       "      <th>0</th>\n",
       "      <th>1</th>\n",
       "      <th>2</th>\n",
       "      <th>3</th>\n",
       "      <th>4</th>\n",
       "      <th>5</th>\n",
       "      <th>...</th>\n",
       "      <th>12</th>\n",
       "      <th>13</th>\n",
       "      <th>14</th>\n",
       "      <th>15</th>\n",
       "      <th>16</th>\n",
       "      <th>17</th>\n",
       "      <th>18</th>\n",
       "      <th>19</th>\n",
       "      <th>20</th>\n",
       "      <th>21</th>\n",
       "    </tr>\n",
       "  </thead>\n",
       "  <tbody>\n",
       "    <tr>\n",
       "      <th>0</th>\n",
       "      <td>300000</td>\n",
       "      <td>2.0</td>\n",
       "      <td>2.0</td>\n",
       "      <td>20.671147</td>\n",
       "      <td>0.0</td>\n",
       "      <td>0.0</td>\n",
       "      <td>0.0</td>\n",
       "      <td>1.0</td>\n",
       "      <td>0.0</td>\n",
       "      <td>0.0</td>\n",
       "      <td>...</td>\n",
       "      <td>0.0</td>\n",
       "      <td>0.0</td>\n",
       "      <td>0.0</td>\n",
       "      <td>1.0</td>\n",
       "      <td>0.0</td>\n",
       "      <td>0.0</td>\n",
       "      <td>0.0</td>\n",
       "      <td>1.0</td>\n",
       "      <td>0.0</td>\n",
       "      <td>0.0</td>\n",
       "    </tr>\n",
       "    <tr>\n",
       "      <th>1</th>\n",
       "      <td>300001</td>\n",
       "      <td>1.0</td>\n",
       "      <td>7.0</td>\n",
       "      <td>13.564105</td>\n",
       "      <td>0.0</td>\n",
       "      <td>0.0</td>\n",
       "      <td>1.0</td>\n",
       "      <td>0.0</td>\n",
       "      <td>0.0</td>\n",
       "      <td>1.0</td>\n",
       "      <td>...</td>\n",
       "      <td>1.0</td>\n",
       "      <td>1.0</td>\n",
       "      <td>0.0</td>\n",
       "      <td>0.0</td>\n",
       "      <td>0.0</td>\n",
       "      <td>0.0</td>\n",
       "      <td>0.0</td>\n",
       "      <td>1.0</td>\n",
       "      <td>0.0</td>\n",
       "      <td>0.0</td>\n",
       "    </tr>\n",
       "    <tr>\n",
       "      <th>2</th>\n",
       "      <td>300002</td>\n",
       "      <td>0.0</td>\n",
       "      <td>9.0</td>\n",
       "      <td>11.809799</td>\n",
       "      <td>1.0</td>\n",
       "      <td>0.0</td>\n",
       "      <td>0.0</td>\n",
       "      <td>0.0</td>\n",
       "      <td>0.0</td>\n",
       "      <td>1.0</td>\n",
       "      <td>...</td>\n",
       "      <td>1.0</td>\n",
       "      <td>0.0</td>\n",
       "      <td>1.0</td>\n",
       "      <td>0.0</td>\n",
       "      <td>0.0</td>\n",
       "      <td>1.0</td>\n",
       "      <td>0.0</td>\n",
       "      <td>0.0</td>\n",
       "      <td>0.0</td>\n",
       "      <td>0.0</td>\n",
       "    </tr>\n",
       "    <tr>\n",
       "      <th>3</th>\n",
       "      <td>300003</td>\n",
       "      <td>0.0</td>\n",
       "      <td>1.0</td>\n",
       "      <td>18.477036</td>\n",
       "      <td>1.0</td>\n",
       "      <td>0.0</td>\n",
       "      <td>0.0</td>\n",
       "      <td>0.0</td>\n",
       "      <td>0.0</td>\n",
       "      <td>0.0</td>\n",
       "      <td>...</td>\n",
       "      <td>0.0</td>\n",
       "      <td>0.0</td>\n",
       "      <td>1.0</td>\n",
       "      <td>0.0</td>\n",
       "      <td>0.0</td>\n",
       "      <td>0.0</td>\n",
       "      <td>0.0</td>\n",
       "      <td>1.0</td>\n",
       "      <td>0.0</td>\n",
       "      <td>0.0</td>\n",
       "    </tr>\n",
       "    <tr>\n",
       "      <th>4</th>\n",
       "      <td>300004</td>\n",
       "      <td>0.0</td>\n",
       "      <td>2.0</td>\n",
       "      <td>9.907953</td>\n",
       "      <td>1.0</td>\n",
       "      <td>0.0</td>\n",
       "      <td>0.0</td>\n",
       "      <td>0.0</td>\n",
       "      <td>0.0</td>\n",
       "      <td>0.0</td>\n",
       "      <td>...</td>\n",
       "      <td>1.0</td>\n",
       "      <td>0.0</td>\n",
       "      <td>0.0</td>\n",
       "      <td>1.0</td>\n",
       "      <td>1.0</td>\n",
       "      <td>0.0</td>\n",
       "      <td>0.0</td>\n",
       "      <td>0.0</td>\n",
       "      <td>0.0</td>\n",
       "      <td>0.0</td>\n",
       "    </tr>\n",
       "  </tbody>\n",
       "</table>\n",
       "<p>5 rows × 26 columns</p>\n",
       "</div>"
      ],
      "text/plain": [
       "       id  Size  Compartments  Weight Capacity (kg)    0    1    2    3    4  \\\n",
       "0  300000   2.0           2.0             20.671147  0.0  0.0  0.0  1.0  0.0   \n",
       "1  300001   1.0           7.0             13.564105  0.0  0.0  1.0  0.0  0.0   \n",
       "2  300002   0.0           9.0             11.809799  1.0  0.0  0.0  0.0  0.0   \n",
       "3  300003   0.0           1.0             18.477036  1.0  0.0  0.0  0.0  0.0   \n",
       "4  300004   0.0           2.0              9.907953  1.0  0.0  0.0  0.0  0.0   \n",
       "\n",
       "     5  ...   12   13   14   15   16   17   18   19   20   21  \n",
       "0  0.0  ...  0.0  0.0  0.0  1.0  0.0  0.0  0.0  1.0  0.0  0.0  \n",
       "1  1.0  ...  1.0  1.0  0.0  0.0  0.0  0.0  0.0  1.0  0.0  0.0  \n",
       "2  1.0  ...  1.0  0.0  1.0  0.0  0.0  1.0  0.0  0.0  0.0  0.0  \n",
       "3  0.0  ...  0.0  0.0  1.0  0.0  0.0  0.0  0.0  1.0  0.0  0.0  \n",
       "4  0.0  ...  1.0  0.0  0.0  1.0  1.0  0.0  0.0  0.0  0.0  0.0  \n",
       "\n",
       "[5 rows x 26 columns]"
      ]
     },
     "execution_count": 23,
     "metadata": {},
     "output_type": "execute_result"
    }
   ],
   "source": [
    "X_test.head()"
   ]
  },
  {
   "cell_type": "markdown",
   "id": "bbedb34b",
   "metadata": {
    "papermill": {
     "duration": 0.014823,
     "end_time": "2025-02-17T15:41:00.962488",
     "exception": false,
     "start_time": "2025-02-17T15:41:00.947665",
     "status": "completed"
    },
    "tags": []
   },
   "source": [
    "# Prediction with trained CatBoost model"
   ]
  },
  {
   "cell_type": "code",
   "execution_count": 24,
   "id": "5630b2be",
   "metadata": {
    "execution": {
     "iopub.execute_input": "2025-02-17T15:41:00.993573Z",
     "iopub.status.busy": "2025-02-17T15:41:00.993169Z",
     "iopub.status.idle": "2025-02-17T15:41:01.042519Z",
     "shell.execute_reply": "2025-02-17T15:41:01.041560Z"
    },
    "papermill": {
     "duration": 0.067121,
     "end_time": "2025-02-17T15:41:01.044308",
     "exception": false,
     "start_time": "2025-02-17T15:41:00.977187",
     "status": "completed"
    },
    "tags": []
   },
   "outputs": [],
   "source": [
    "test_pred_2 = model_2.predict(X_test)\n",
    "test_pred = test_pred_2"
   ]
  },
  {
   "cell_type": "code",
   "execution_count": 25,
   "id": "50b3cec3",
   "metadata": {
    "execution": {
     "iopub.execute_input": "2025-02-17T15:41:01.075361Z",
     "iopub.status.busy": "2025-02-17T15:41:01.075016Z",
     "iopub.status.idle": "2025-02-17T15:41:01.479006Z",
     "shell.execute_reply": "2025-02-17T15:41:01.477696Z"
    },
    "papermill": {
     "duration": 0.421978,
     "end_time": "2025-02-17T15:41:01.480798",
     "exception": false,
     "start_time": "2025-02-17T15:41:01.058820",
     "status": "completed"
    },
    "tags": []
   },
   "outputs": [
    {
     "name": "stdout",
     "output_type": "stream",
     "text": [
      "Saved.\n"
     ]
    }
   ],
   "source": [
    "output = pd.DataFrame({\"id\": X_test['id'], 'Price': test_pred})\n",
    "output.to_csv('submission.csv', index=False)\n",
    "print(\"Saved.\")"
   ]
  },
  {
   "cell_type": "code",
   "execution_count": 26,
   "id": "3f817af7",
   "metadata": {
    "execution": {
     "iopub.execute_input": "2025-02-17T15:41:01.512060Z",
     "iopub.status.busy": "2025-02-17T15:41:01.511676Z",
     "iopub.status.idle": "2025-02-17T15:41:01.588857Z",
     "shell.execute_reply": "2025-02-17T15:41:01.587895Z"
    },
    "papermill": {
     "duration": 0.095102,
     "end_time": "2025-02-17T15:41:01.590673",
     "exception": false,
     "start_time": "2025-02-17T15:41:01.495571",
     "status": "completed"
    },
    "tags": []
   },
   "outputs": [
    {
     "data": {
      "text/html": [
       "<div>\n",
       "<style scoped>\n",
       "    .dataframe tbody tr th:only-of-type {\n",
       "        vertical-align: middle;\n",
       "    }\n",
       "\n",
       "    .dataframe tbody tr th {\n",
       "        vertical-align: top;\n",
       "    }\n",
       "\n",
       "    .dataframe thead th {\n",
       "        text-align: right;\n",
       "    }\n",
       "</style>\n",
       "<table border=\"1\" class=\"dataframe\">\n",
       "  <thead>\n",
       "    <tr style=\"text-align: right;\">\n",
       "      <th></th>\n",
       "      <th>id</th>\n",
       "      <th>Price</th>\n",
       "    </tr>\n",
       "  </thead>\n",
       "  <tbody>\n",
       "    <tr>\n",
       "      <th>0</th>\n",
       "      <td>300000</td>\n",
       "      <td>83.609371</td>\n",
       "    </tr>\n",
       "    <tr>\n",
       "      <th>1</th>\n",
       "      <td>300001</td>\n",
       "      <td>80.805315</td>\n",
       "    </tr>\n",
       "    <tr>\n",
       "      <th>2</th>\n",
       "      <td>300002</td>\n",
       "      <td>81.749249</td>\n",
       "    </tr>\n",
       "    <tr>\n",
       "      <th>3</th>\n",
       "      <td>300003</td>\n",
       "      <td>84.308221</td>\n",
       "    </tr>\n",
       "    <tr>\n",
       "      <th>4</th>\n",
       "      <td>300004</td>\n",
       "      <td>76.808701</td>\n",
       "    </tr>\n",
       "  </tbody>\n",
       "</table>\n",
       "</div>"
      ],
      "text/plain": [
       "       id      Price\n",
       "0  300000  83.609371\n",
       "1  300001  80.805315\n",
       "2  300002  81.749249\n",
       "3  300003  84.308221\n",
       "4  300004  76.808701"
      ]
     },
     "execution_count": 26,
     "metadata": {},
     "output_type": "execute_result"
    }
   ],
   "source": [
    "d=pd.read_csv(\"/kaggle/working/submission.csv\")\n",
    "d.head()"
   ]
  },
  {
   "cell_type": "code",
   "execution_count": null,
   "id": "928e2cc8",
   "metadata": {
    "papermill": {
     "duration": 0.014805,
     "end_time": "2025-02-17T15:41:01.620411",
     "exception": false,
     "start_time": "2025-02-17T15:41:01.605606",
     "status": "completed"
    },
    "tags": []
   },
   "outputs": [],
   "source": []
  }
 ],
 "metadata": {
  "kaggle": {
   "accelerator": "none",
   "dataSources": [
    {
     "databundleVersionId": 10995111,
     "sourceId": 90274,
     "sourceType": "competition"
    }
   ],
   "dockerImageVersionId": 30839,
   "isGpuEnabled": false,
   "isInternetEnabled": true,
   "language": "python",
   "sourceType": "notebook"
  },
  "kernelspec": {
   "display_name": "Python 3",
   "language": "python",
   "name": "python3"
  },
  "language_info": {
   "codemirror_mode": {
    "name": "ipython",
    "version": 3
   },
   "file_extension": ".py",
   "mimetype": "text/x-python",
   "name": "python",
   "nbconvert_exporter": "python",
   "pygments_lexer": "ipython3",
   "version": "3.10.12"
  },
  "papermill": {
   "default_parameters": {},
   "duration": 50.172097,
   "end_time": "2025-02-17T15:41:02.557181",
   "environment_variables": {},
   "exception": null,
   "input_path": "__notebook__.ipynb",
   "output_path": "__notebook__.ipynb",
   "parameters": {},
   "start_time": "2025-02-17T15:40:12.385084",
   "version": "2.6.0"
  }
 },
 "nbformat": 4,
 "nbformat_minor": 5
}
